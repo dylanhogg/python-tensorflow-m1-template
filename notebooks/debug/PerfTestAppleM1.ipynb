{
 "cells": [
  {
   "cell_type": "markdown",
   "metadata": {
    "id": "V2tdnA60uOMm"
   },
   "source": [
    "# Performance Test Tensorflow with Food101 dataset\n",
    "\n",
    "- Model  : [EfficientNetB0](https://www.tensorflow.org/api_docs/python/tf/keras/applications/efficientnet/EfficientNetB0) (pretrained on ImageNet)  \n",
    "- Dataset: [Food 101](https://www.tensorflow.org/datasets/catalog/food101)  \n",
    "- Running this notebook will download ~4.5GB to your local machine\n",
    "- You can manually clean up the dataset afterwards with `rm -rf ~/tensorflow_datasets/food101/`\n",
    "- Code adapted from notebook by mrdbourke: https://github.com/mrdbourke/m1-machine-learning-test/blob/main/01_food101_effnet_benchmark.ipynb"
   ]
  },
  {
   "cell_type": "code",
   "execution_count": null,
   "metadata": {},
   "outputs": [],
   "source": [
    "import os\n",
    "import tensorflow as tf\n",
    "import tensorflow_datasets as tfds\n",
    "import pandas as pd\n",
    "import numpy as np\n",
    "from tensorflow.keras import layers\n",
    "from timeit import default_timer as timer \n",
    "from library import log\n",
    "from loguru import logger\n",
    "log.configure(logfile=\"./log/notebook.log\")"
   ]
  },
  {
   "cell_type": "markdown",
   "metadata": {},
   "source": [
    "## GPU and version check"
   ]
  },
  {
   "cell_type": "code",
   "execution_count": null,
   "metadata": {},
   "outputs": [],
   "source": [
    "# Force CPU for testing. \n",
    "# Ref: https://github.com/tensorflow/tensorflow/issues/31135\n",
    "# tf.config.set_visible_devices([], 'GPU')"
   ]
  },
  {
   "cell_type": "code",
   "execution_count": null,
   "metadata": {},
   "outputs": [],
   "source": [
    "devices = tf.config.list_physical_devices()\n",
    "has_gpu_device = any([d.device_type == \"GPU\" for d in devices])\n",
    "if not has_gpu_device:\n",
    "    logger.error(\"No GPU device found!\")"
   ]
  },
  {
   "cell_type": "code",
   "execution_count": null,
   "metadata": {},
   "outputs": [],
   "source": [
    "tf_version = tf.__version__\n",
    "if tf_version[0] == 1 or int(tf_version[2]) < 7 :\n",
    "    logger.warning(\"Not using a recent version of Tensorflow\")"
   ]
  },
  {
   "cell_type": "markdown",
   "metadata": {
    "id": "VCaYVPaa7yXc"
   },
   "source": [
    "## Setup hyperparameters"
   ]
  },
  {
   "cell_type": "code",
   "execution_count": null,
   "metadata": {
    "id": "5dMYCl3Z71ZC"
   },
   "outputs": [],
   "source": [
    "BATCH_SIZE = 32\n",
    "EPOCHS = 5\n",
    "DATASET_NAME = \"food101\""
   ]
  },
  {
   "cell_type": "markdown",
   "metadata": {
    "id": "fub1QJ7UuybU"
   },
   "source": [
    "## Download Data"
   ]
  },
  {
   "cell_type": "code",
   "execution_count": null,
   "metadata": {
    "id": "mvErMJcRtaXr"
   },
   "outputs": [],
   "source": [
    "(train_data, test_data), ds_info = tfds.load(name=DATASET_NAME,\n",
    "                                             split=[\"train\", \"validation\"],\n",
    "                                             shuffle_files=True,\n",
    "                                             as_supervised=True,\n",
    "                                             with_info=True)"
   ]
  },
  {
   "cell_type": "markdown",
   "metadata": {
    "id": "oyU6gLkg1w9d"
   },
   "source": [
    "## Prepare data"
   ]
  },
  {
   "cell_type": "code",
   "execution_count": null,
   "metadata": {
    "id": "WxIwNybPt5JP"
   },
   "outputs": [],
   "source": [
    "def preprocess_img(image, label, img_shape=224):\n",
    "    image = tf.image.resize(image, [img_shape, img_shape])\n",
    "    return tf.cast(image, tf.float32), label\n",
    "\n",
    "train_data = train_data.map(map_func=preprocess_img, num_parallel_calls=tf.data.AUTOTUNE)\n",
    "train_data = train_data.shuffle(buffer_size=1000).batch(batch_size=32).prefetch(buffer_size=tf.data.AUTOTUNE)\n",
    "test_data = test_data.map(preprocess_img, num_parallel_calls=tf.data.AUTOTUNE)\n",
    "test_data = test_data.batch(BATCH_SIZE).prefetch(tf.data.AUTOTUNE)"
   ]
  },
  {
   "cell_type": "markdown",
   "metadata": {
    "id": "xVNYiGtK2BPQ"
   },
   "source": [
    "## Setup model"
   ]
  },
  {
   "cell_type": "code",
   "execution_count": null,
   "metadata": {
    "id": "JS3ZgR8HuJiH"
   },
   "outputs": [],
   "source": [
    "tf.random.set_seed(42)\n",
    "\n",
    "input_shape = (224, 224, 3)\n",
    "base_model = tf.keras.applications.EfficientNetB0(include_top=False)\n",
    "base_model.trainable = False\n",
    "\n",
    "inputs = layers.Input(shape=input_shape, name=\"input_layer\")\n",
    "x = base_model(inputs, training=False)\n",
    "x = layers.GlobalAveragePooling2D(name=\"pooling_layer\")(x)\n",
    "class_names = ds_info.features[\"label\"].names\n",
    "outputs = layers.Dense(len(class_names), activation=\"softmax\")(x)\n",
    "model = tf.keras.Model(inputs, outputs, name=\"EfficientNetB0_feature_extract\")\n",
    "\n",
    "model.compile(loss=\"sparse_categorical_crossentropy\",\n",
    "              optimizer=tf.keras.optimizers.Adam(),\n",
    "              metrics=[\"accuracy\"])"
   ]
  },
  {
   "cell_type": "markdown",
   "metadata": {
    "id": "T5LkeKAv2hqR"
   },
   "source": [
    "## Fit the model"
   ]
  },
  {
   "cell_type": "code",
   "execution_count": null,
   "metadata": {
    "colab": {
     "base_uri": "https://localhost:8080/"
    },
    "id": "ejR_43M1uWAe",
    "outputId": "18cd231d-e391-4a70-acce-55417f767848"
   },
   "outputs": [],
   "source": [
    "start_time = timer()\n",
    "history = model.fit(train_data, \n",
    "                    epochs=EPOCHS,\n",
    "                    steps_per_epoch=len(train_data),\n",
    "                    validation_data=test_data,\n",
    "                    validation_steps=len(test_data))\n",
    "end_time = timer()\n",
    "total_train_time = end_time - start_time\n",
    "print(f\"\\nTotal Train time: {total_train_time:.3f} seconds\")"
   ]
  },
  {
   "cell_type": "markdown",
   "metadata": {
    "id": "hewegjHv2vWW"
   },
   "source": [
    "## Results"
   ]
  },
  {
   "cell_type": "code",
   "execution_count": null,
   "metadata": {
    "colab": {
     "base_uri": "https://localhost:8080/",
     "height": 153
    },
    "id": "zAUWHaw_vEar",
    "outputId": "8386ac81-d931-4693-d0b1-b5a1ad4a39ec"
   },
   "outputs": [],
   "source": [
    "time_per_epoch = round(total_train_time/EPOCHS, 3)\n",
    "\n",
    "print(f\"Your time_per_epoch:                   {time_per_epoch}\")\n",
    "\n",
    "# Comparable results source: https://github.com/mrdbourke/m1-machine-learning-test/tree/main/results\n",
    "# Supplimented with results from https://github.com/dylanhogg\n",
    "print(f\"\\nComparable time_per_epoch (sec) results:\\n\")\n",
    "print(f\"TITAN RTX GPU:                            92\")\n",
    "print(f\"Apple M1 Max 10 core, 64GB (dylan):      170\")\n",
    "print(f\"Apple M1 Max (mrdbourke):                191\")\n",
    "print(f\"Apple M1 Pro:                            297\")\n",
    "print(f\"Google Colab (K80 GPU):                  424\")\n",
    "print(f\"AMD Radeon Pro 5500M 8 GB (Intel Mac):   606\")\n",
    "print(f\"Apple M1 (mrdbourke):                    677\")\n",
    "print(f\"Apple M1 (dylan):                        868\")\n",
    "print(f\"MBP Intel i7 2.6GHz Quad CPU (dylan):  3,287\")\n",
    "\n",
    "print(f\"\\nYour training details:\\n\")\n",
    "print(f\"time_per_epoch    : {time_per_epoch}\")\n",
    "print(f\"total_train_time  : {total_train_time}\")\n",
    "print(f\"epochs            : {EPOCHS}\")\n",
    "print(f\"batch_size        : {BATCH_SIZE}\")\n",
    "print(f\"num_train_samples : {len(train_data)*BATCH_SIZE}\")\n",
    "print(f\"num_test_samples  : {len(test_data)*BATCH_SIZE}\")"
   ]
  },
  {
   "cell_type": "code",
   "execution_count": null,
   "metadata": {},
   "outputs": [],
   "source": []
  }
 ],
 "metadata": {
  "accelerator": "GPU",
  "colab": {
   "authorship_tag": "ABX9TyMzZ4IJbRR713ssS1uVa6Le",
   "collapsed_sections": [],
   "include_colab_link": true,
   "name": "01_food101_effnet_benchmark.ipynb",
   "provenance": []
  },
  "kernelspec": {
   "display_name": "Python 3 (ipykernel)",
   "language": "python",
   "name": "python3"
  },
  "language_info": {
   "codemirror_mode": {
    "name": "ipython",
    "version": 3
   },
   "file_extension": ".py",
   "mimetype": "text/x-python",
   "name": "python",
   "nbconvert_exporter": "python",
   "pygments_lexer": "ipython3",
   "version": "3.9.9"
  }
 },
 "nbformat": 4,
 "nbformat_minor": 4
}
